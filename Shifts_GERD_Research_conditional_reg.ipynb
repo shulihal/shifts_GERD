{
 "cells": [
  {
   "cell_type": "markdown",
   "id": "b0c45d10",
   "metadata": {},
   "source": [
    "### This analysis investigates the association between shift work and the incidence of Gastroesophageal Reflux Disease (GERD) among the nursing staff at Rabin Medical Center."
   ]
  },
  {
   "cell_type": "markdown",
   "id": "10f0d221",
   "metadata": {},
   "source": [
    "## Imports"
   ]
  },
  {
   "cell_type": "code",
   "execution_count": 1,
   "id": "6f5dfda6",
   "metadata": {},
   "outputs": [],
   "source": [
    "import pandas as pd\n",
    "import numpy as np\n",
    "import matplotlib.pyplot as plt\n",
    "import datetime\n",
    "import re\n",
    "import seaborn as sns\n",
    "import math\n",
    "import datetime as dt\n",
    "import statsmodels\n",
    "from statsmodels.graphics.mosaicplot import mosaic\n",
    "from statsmodels.discrete.conditional_models import ConditionalLogit\n",
    "from statsmodels.stats.outliers_influence import variance_inflation_factor\n",
    "from itertools import product\n",
    "import statsmodels.api as sm\n",
    "from scipy.stats import ttest_ind, mannwhitneyu, shapiro, levene, chisquare, chi2_contingency, wilcoxon\n",
    "import warnings\n",
    "import random\n",
    "warnings.filterwarnings('ignore')"
   ]
  },
  {
   "cell_type": "markdown",
   "id": "5d412f1a",
   "metadata": {},
   "source": [
    "### Fetch data"
   ]
  },
  {
   "cell_type": "markdown",
   "id": "780900e7",
   "metadata": {},
   "source": [
    "The data for this study is based on two main sources:\n",
    "- Personal health records: Personal health records were obtained from Clalit, the largest health maintenance organization in Israel, where the study population is registered. The personal health records will include key patient characteristics such as age, sex, BMI in each year, country of origin, Charlson Comorbidity Index, medication purchased and licensed in each year, as well as diagnosis information. The diagnosis information consists of two attributes - type of diagnosis and date of diagnosis, and is available at one or two sample times - prior to start of work at Clalit, and after start of work at Clalit.\n",
    "\n",
    "- Employee shift work records: Employee shift work records were obtained from Rabin Medical Center. These records will include the amount of morning, evening, and night shifts that each nurse worked on each month during the study period, from 2015 to 2020.\n",
    "\n",
    "\n"
   ]
  },
  {
   "cell_type": "code",
   "execution_count": 2,
   "id": "4e8a7d63",
   "metadata": {},
   "outputs": [],
   "source": [
    "path = r\"\\\\10.100.117.3\\Projects\\R04-Belinson\\R04-GERD_Ramd\\Yoav\\\\\"\n",
    "\n",
    "#health records data\n",
    "df_health = pd.read_csv(path+\"national DATA Gred 18-5-23.csv\", \n",
    "                 parse_dates=['ESOPHAGITIS after-Start date', 'Birth date', 'BMI BL-Measurement date'])\n",
    "\n",
    "#Employee shift work data\n",
    "shifts_data = pd.read_excel(path+'פירוט כל המשמרות לפי חודשים.xlsx', \n",
    "                     parse_dates=['employment_start_date'])\n"
   ]
  },
  {
   "cell_type": "markdown",
   "id": "186f0860",
   "metadata": {},
   "source": [
    "### Remove patients that were diagnosed prior to starting to work"
   ]
  },
  {
   "cell_type": "code",
   "execution_count": 3,
   "id": "b5bc12d9",
   "metadata": {},
   "outputs": [
    {
     "data": {
      "text/plain": [
       "200"
      ]
     },
     "execution_count": 3,
     "metadata": {},
     "output_type": "execute_result"
    }
   ],
   "source": [
    "# if the diagsnosis date is before 2015 we can't find correlation to the shifts data\n",
    "mask = df_health[df_health['ESOPHAGITIS after-Start date'] < datetime.datetime(2015,1,1)].index\n",
    "df_health = df_health.drop(mask)\n",
    "df_health['first_sign_of_ESO'] = df_health['ESOPHAGITIS after-Start date']\n",
    "#Patients that were diagnosed\n",
    "df_health['first_sign_of_ESO'].value_counts().sum()"
   ]
  },
  {
   "cell_type": "markdown",
   "id": "0484426b",
   "metadata": {},
   "source": [
    "### Calculation of Shift Work"
   ]
  },
  {
   "cell_type": "markdown",
   "id": "eb1e2019",
   "metadata": {},
   "source": [
    "Estimate the severity of the median amount of shifts performed by each nurse in the time of exposure, 12 month before being diagnosed or if the nurse wasn’t diagnosed we will use it’s matched partner diagnosed date. "
   ]
  },
  {
   "cell_type": "code",
   "execution_count": 4,
   "id": "9ff1c19e",
   "metadata": {},
   "outputs": [],
   "source": [
    "#create index for month and year as a continuous integer variable\n",
    "def get_index_month_year(row):\n",
    "    year_count = int(row['year']) - 2015\n",
    "    return year_count*12 + row['month']\n",
    "\n",
    "shifts_data['index_month_year'] = shifts_data.apply(lambda row: get_index_month_year(row), axis=1)"
   ]
  },
  {
   "cell_type": "code",
   "execution_count": 5,
   "id": "48939072",
   "metadata": {},
   "outputs": [],
   "source": [
    "#get relevant columns for shift analysis\n",
    "cols = ['InternalPatientID', 'night', 'evening', 'morning', 'index_month_year', 'year', 'month','employment_start_date']\n",
    "shifts_data = shifts_data[cols]\n",
    "\n",
    "#remove NaN values and put zero instead - since NaN means 0 shifts of this type\n",
    "shifts_data.fillna(0, inplace=True)"
   ]
  },
  {
   "cell_type": "code",
   "execution_count": 6,
   "id": "b86f2746",
   "metadata": {},
   "outputs": [],
   "source": [
    "# get nurses that worked at least 2 month over the years, otherwise consider as not worked\n",
    "temp = pd.DataFrame(shifts_data.groupby(['InternalPatientID'])['index_month_year'].count())\n",
    "mask = temp[temp['index_month_year']>2].index\n",
    "shifts_data = shifts_data[shifts_data['InternalPatientID'].isin(mask)]"
   ]
  },
  {
   "cell_type": "code",
   "execution_count": 7,
   "id": "cf76623c",
   "metadata": {},
   "outputs": [],
   "source": [
    "#calculate the number of months with nights and the median number of nights for each patient\n",
    "shifts_patient = shifts_data.groupby(['InternalPatientID'], as_index=False).agg(\n",
    "    count_month_w_nights = ('night', lambda x: sum(x>0)),\n",
    "    median_nights = ('night', lambda x: x.quantile(0.5)),\n",
    ")"
   ]
  },
  {
   "cell_type": "code",
   "execution_count": 8,
   "id": "ed4f997a",
   "metadata": {},
   "outputs": [
    {
     "data": {
      "text/plain": [
       "(0.0, 6.0)"
      ]
     },
     "execution_count": 8,
     "metadata": {},
     "output_type": "execute_result"
    }
   ],
   "source": [
    "#define the most \"severe\" number of nights per patients by percentiles (upper 90 percentile and lower 10 percentile)\n",
    "quantile_9 = shifts_patient['median_nights'].quantile(0.9)\n",
    "quantile_1 = shifts_patient['median_nights'].quantile(0.1)\n",
    "quantile_1, quantile_9"
   ]
  },
  {
   "cell_type": "code",
   "execution_count": 9,
   "id": "572291bb",
   "metadata": {},
   "outputs": [
    {
     "data": {
      "text/plain": [
       "unexposed    1755\n",
       "exposed       391\n",
       "Name: expose_group, dtype: int64"
      ]
     },
     "execution_count": 9,
     "metadata": {},
     "output_type": "execute_result"
    }
   ],
   "source": [
    "#calculate in which exposure group each patient is, based on their median number of nights\n",
    "def get_expose_group(row):\n",
    "    if row['median_nights']>=quantile_9:\n",
    "        return 'exposed'\n",
    "    elif row['median_nights']<=quantile_1:\n",
    "        return 'unexposed'\n",
    "    else: \n",
    "        return None\n",
    "\n",
    "shifts_patient['expose_group'] = shifts_patient.apply(lambda row: get_expose_group(row), axis=1)\n",
    "shifts_patient['expose_group'].value_counts()"
   ]
  },
  {
   "cell_type": "markdown",
   "id": "9481f0ab",
   "metadata": {},
   "source": [
    "## Merge Shift data with health records"
   ]
  },
  {
   "cell_type": "code",
   "execution_count": 10,
   "id": "60e3d1c5",
   "metadata": {},
   "outputs": [],
   "source": [
    "# add employment start date from shift data to health records\n",
    "df = df_health.merge(shifts_data[['InternalPatientID', 'employment_start_date']].groupby('InternalPatientID').min(), \n",
    "         left_on='Patient ID', right_on='InternalPatientID', how = 'left')\n",
    "df['employment_start_date'] = pd.to_datetime(df['employment_start_date'])"
   ]
  },
  {
   "cell_type": "code",
   "execution_count": 11,
   "id": "c8606d8e",
   "metadata": {},
   "outputs": [
    {
     "data": {
      "text/plain": [
       "(2476, 144)"
      ]
     },
     "execution_count": 11,
     "metadata": {},
     "output_type": "execute_result"
    }
   ],
   "source": [
    "# merge data and shifts data\n",
    "df = df.merge(shifts_patient, left_on='Patient ID', right_on='InternalPatientID', how = 'inner')\n",
    "df.shape"
   ]
  },
  {
   "cell_type": "markdown",
   "id": "df3ddaf0",
   "metadata": {},
   "source": [
    "## Preprocess variables"
   ]
  },
  {
   "cell_type": "code",
   "execution_count": 12,
   "id": "33d4e673",
   "metadata": {},
   "outputs": [
    {
     "data": {
      "text/plain": [
       "False    2279\n",
       "True      197\n",
       "Name: is_ill, dtype: int64"
      ]
     },
     "execution_count": 12,
     "metadata": {},
     "output_type": "execute_result"
    }
   ],
   "source": [
    "#add a variable specifying if the patient was diagnosed\n",
    "df['is_ill'] = ~df['first_sign_of_ESO'].isna()\n",
    "df['is_ill'].value_counts()"
   ]
  },
  {
   "cell_type": "code",
   "execution_count": 13,
   "id": "cbff9a7b",
   "metadata": {},
   "outputs": [
    {
     "data": {
      "text/plain": [
       "not diagnosed          2279\n",
       "diagnosed with GERD     197\n",
       "Name: is_ill_cat, dtype: int64"
      ]
     },
     "execution_count": 13,
     "metadata": {},
     "output_type": "execute_result"
    }
   ],
   "source": [
    "#create a categorial variable indicating illness\n",
    "df['is_ill_cat'] = df.apply(lambda x: \"diagnosed with GERD\" if x['is_ill'] else \"not diagnosed\", axis=1)\n",
    "df['is_ill_cat'].value_counts()"
   ]
  },
  {
   "cell_type": "markdown",
   "id": "d3e8ce72",
   "metadata": {},
   "source": [
    "### Age variables"
   ]
  },
  {
   "cell_type": "markdown",
   "id": "2940db32",
   "metadata": {},
   "source": [
    "- Age at 2015 - the reference date for calculating the age is 1/1/2015 as this is a time point where we started to collect data on their work lifestyle.\n",
    "- Age at diagnosis of GERD - for subjects not diagnosed this variable is null."
   ]
  },
  {
   "cell_type": "code",
   "execution_count": 14,
   "id": "b275bb71",
   "metadata": {},
   "outputs": [],
   "source": [
    "#calculate the age at 2015 which is the beginning of the staudy\n",
    "df['age_2015'] = df['Birth date'].apply(lambda x: (dt.datetime(2015, 1, 1)- x)/dt.timedelta(days=365))\n",
    "df = df[df['age_2015']<70].copy()\n",
    "\n",
    "#calculate the age at diagnosis by the field of first ESO sign\n",
    "df.rename(columns={'ESOPHAGITIS after-Age at diagnosis':'age_at_diagnosis'}, inplace=True)"
   ]
  },
  {
   "cell_type": "markdown",
   "id": "6e88a786",
   "metadata": {},
   "source": [
    "### BMI variables"
   ]
  },
  {
   "cell_type": "markdown",
   "id": "283ee8ed",
   "metadata": {},
   "source": [
    "- BMI at diagnosis of GERD - We defined this BMI field to be the closest BMI value recorded before a patient's GERD diagnosis, or the most recent BMI measurement if the patient has never been diagnosed. \n",
    "- BMI before starting to work -  This field is defined as the closest BMI value recorded before beginning of work at Clalit.\n"
   ]
  },
  {
   "cell_type": "code",
   "execution_count": 15,
   "id": "efd1aaa4",
   "metadata": {},
   "outputs": [],
   "source": [
    "# remove BMI values that are typo - do not make sense based on BMI definition\n",
    "df['BMI BL-BMI'] = df['BMI BL-BMI'].apply(lambda x: x if x>10 and x<50 else None)\n",
    "cols = df.columns[df.columns.str.match('^BMI \\d{4}-BMI$')].tolist() + ['BMI last-BMI']\n",
    "for col in cols:\n",
    "    df[col] = df[col].apply(lambda row: row if row>10 and row<50 else None)"
   ]
  },
  {
   "cell_type": "code",
   "execution_count": 16,
   "id": "52f97105",
   "metadata": {},
   "outputs": [],
   "source": [
    "# Calculate BMI before diagnosed\n",
    "date_cols = df.columns[df.columns.str.match('^BMI .*-Measurement date$')].tolist()\n",
    "cols = df.columns[df.columns.str.match('^BMI.*-BMI$')].tolist()\n",
    "df['BMI date before diag'] = ''\n",
    "df['BMI value before diag'] = ''\n",
    "\n",
    "for col in date_cols:\n",
    "    df[col] = pd.to_datetime(df[col])\n",
    "\n",
    "cnt_1 = 0\n",
    "for index, row in df.iterrows():\n",
    "    beore_dig_dates = []\n",
    "    if pd.notna(row['BMI last-Measurement date']):\n",
    "        for col in date_cols:\n",
    "            if row[col] < max(row['employment_start_date'], row['first_sign_of_ESO']):\n",
    "                beore_dig_dates.append(row[col])\n",
    "    if beore_dig_dates:       \n",
    "        # out of all the dates before he got diagnosed or started to work\n",
    "        df.at[index, 'BMI date before diag'] = max(beore_dig_dates)\n",
    "        # find the BMI with the corresponsding date\n",
    "        df.at[index, 'BMI value before diag'] = row[cols[beore_dig_dates.index(max(beore_dig_dates))]]\n",
    "    else:\n",
    "        df.at[index, 'BMI date before diag'] = row['BMI last-Measurement date']\n",
    "        df.at[index, 'BMI value before diag'] = row['BMI last-BMI']"
   ]
  },
  {
   "cell_type": "code",
   "execution_count": 17,
   "id": "81721ad3",
   "metadata": {},
   "outputs": [],
   "source": [
    "# Calculate BMI before start of work\n",
    "df['BMI_date_before_start_work'] = ''\n",
    "df['BMI_value_before_start_work'] = ''\n",
    "\n",
    "for col in date_cols:\n",
    "    df[col] = pd.to_datetime(df[col])\n",
    "\n",
    "cnt_1 = 0\n",
    "for index, row in df.iterrows():\n",
    "    beore_dig_dates = []\n",
    "    if pd.notna(row['BMI last-Measurement date']):\n",
    "        for col in date_cols:\n",
    "            if row[col] < row['employment_start_date']:\n",
    "                beore_dig_dates.append(row[col])\n",
    "    if beore_dig_dates:       \n",
    "        # out of all the dates before he got diagnosed or started to work\n",
    "        df.at[index, 'BMI_date_before_start_work'] = max(beore_dig_dates)\n",
    "        # find the BMI with the corresponsding date\n",
    "        df.at[index, 'BMI_value_before_start_work'] = row[cols[beore_dig_dates.index(max(beore_dig_dates))]]\n",
    "    else:\n",
    "        df.at[index, 'BMI_date_before_start_work'] = row['BMI last-Measurement date']\n",
    "        df.at[index, 'BMI_value_before_start_work'] = row['BMI last-BMI']"
   ]
  },
  {
   "cell_type": "markdown",
   "id": "4ef3e893",
   "metadata": {},
   "source": [
    "### Socio-economic score variable"
   ]
  },
  {
   "cell_type": "markdown",
   "id": "a93bdbb7",
   "metadata": {},
   "source": [
    "Socio economic score has 5 level scale, the higher value defining higher socio-economic status. The index is calculated on the basis of demographic data, standard of living, distribution of grants to local authorities (mainly balance grants). Education and training, employment, unemployment and pensions. The municipalities and local councils were classified according to the index values into clusters, when lower clusters indicate lower socio-economic level."
   ]
  },
  {
   "cell_type": "code",
   "execution_count": 18,
   "id": "f800d519",
   "metadata": {},
   "outputs": [],
   "source": [
    "order_5 = {'Very Low':0, 'Low':1, 'Medium':2, 'High':3, 'Very High':4, None:-1, 'no data': -1}\n",
    "df['Socioeconomic score five level scale int']= df['Socioeconomic score five level scale'].apply(lambda x: order_5[x])"
   ]
  },
  {
   "cell_type": "markdown",
   "id": "08d4431c",
   "metadata": {},
   "source": [
    "### Charlson Cormobidity Index Variable"
   ]
  },
  {
   "cell_type": "markdown",
   "id": "fdeb1bbc",
   "metadata": {},
   "source": [
    "The Charlson comorbidity index predicts the ten-year mortality for a patient who may have a range of comorbid conditions, such as heart disease, AIDS, or cancer. Each condition is assigned a score of 1, 2, 3, or 6, depending on the risk of mortality associated with it.\n",
    "\n",
    "This score is defined as the last score prior to diagnosis of GERD, and if there was no diagnosis the last score available in the dataset.\n"
   ]
  },
  {
   "cell_type": "code",
   "execution_count": 19,
   "id": "db989941",
   "metadata": {},
   "outputs": [],
   "source": [
    "#Take the last charlson measurment that is prior to diagnosis, and if the patient was not diagnosed the last measurement of charlson.\n",
    "def get_max_charlson_prior_diagnose(row):\n",
    "    diagnose_date = row['first_sign_of_ESO']\n",
    "    if pd.isnull(diagnose_date): #if not diagnoes take last\n",
    "        return row['charlsocn last-Event Date'], row['charlsocn last-Charlson Score Total']\n",
    "    \n",
    "    if row['charlsocn last-Event Date'] < diagnose_date:\n",
    "        return row['charlsocn last-Event Date'], row['charlsocn last-Charlson Score Total']\n",
    "    \n",
    "    if row['charlsocn BL-Event Date'] < row['charlsocn 2015-Event Date']:\n",
    "        if row['charlsocn 2015-Event Date'] < diagnose_date:\n",
    "            return row['charlsocn 2015-Event Date'], row['charlsocn 2015-Charlson Score Total'] \n",
    "        elif row['charlsocn BL-Event Date'] < diagnose_date:\n",
    "            return row['charlsocn BL-Event Date'], row['charlsocn BL-Charlson Score Total']\n",
    "    elif row['charlsocn BL-Event Date'] < diagnose_date:\n",
    "            return row['charlsocn BL-Event Date'], row['charlsocn BL-Charlson Score Total']\n",
    "    elif row['charlsocn 2015-Event Date'] < diagnose_date:\n",
    "            return row['charlsocn 2015-Event Date'], row['charlsocn 2015-Charlson Score Total'] \n",
    "    return None, None"
   ]
  },
  {
   "cell_type": "code",
   "execution_count": 20,
   "id": "7ce90dd2",
   "metadata": {},
   "outputs": [],
   "source": [
    "df['charlsocn last-Event Date'] = pd.to_datetime(df['charlsocn last-Event Date'])\n",
    "df['charlsocn 2015-Event Date'] = pd.to_datetime(df['charlsocn 2015-Event Date'])\n",
    "df['charlsocn BL-Event Date'] = pd.to_datetime(df['charlsocn BL-Event Date'])\n",
    "df['max_charlson_prior_diagnose'] = df.apply(lambda row: get_max_charlson_prior_diagnose(row), axis=1) #these are tuples of date and value\n",
    "df['max_charlson_prior_diagnose_date'] = df.apply(lambda row: row['max_charlson_prior_diagnose'][0], axis=1)\n",
    "df['max_charlson_prior_diagnose_value'] = df.apply(lambda row: row['max_charlson_prior_diagnose'][1], axis=1)"
   ]
  },
  {
   "cell_type": "markdown",
   "id": "c6fe85d7",
   "metadata": {},
   "source": [
    "### Smoke correction"
   ]
  },
  {
   "cell_type": "markdown",
   "id": "cd5398de",
   "metadata": {},
   "source": [
    "This is a categorical variable, constructed from three smoking types - “never”, “in the past” and “currently”. The smoking status is extracted as the last status prior diagnosis of GERD, if the subject was diagnosed. Otherwise, it is the last status available. Less than 10% of values were null.\n"
   ]
  },
  {
   "cell_type": "code",
   "execution_count": 21,
   "id": "79f78729",
   "metadata": {},
   "outputs": [],
   "source": [
    "# convert smoking variable from hebrew to int\n",
    "def smoke_to_int(smoke):\n",
    "    if smoke is None:\n",
    "        return None\n",
    "    if smoke=='מעולם לא':\n",
    "        return 0\n",
    "    if smoke=='בעבר':\n",
    "        return 1\n",
    "    if str(smoke).startswith('כעת'):\n",
    "        return 2\n",
    "df['smoking BL-categorial'] = df.apply(lambda x: smoke_to_int(x['smoking BL-Smoking status']), axis=1)\n",
    "df['smoking last-categorial'] = df.apply(lambda x: smoke_to_int(x['smoking last-Smoking status']), axis=1)"
   ]
  },
  {
   "cell_type": "code",
   "execution_count": 22,
   "id": "b9a45888",
   "metadata": {},
   "outputs": [],
   "source": [
    "#get the maximum smoking status prior diagnosis\n",
    "def get_max_smoke_prior_diagnose(row):\n",
    "    diagnose_date = row['first_sign_of_ESO']\n",
    "    if pd.isnull(diagnose_date): #if not diagnoes take last\n",
    "        return row['smoking last-Measurement date'], row['smoking last-categorial']\n",
    "    \n",
    "    if row['smoking last-Measurement date'] < diagnose_date:\n",
    "        return row['smoking last-Measurement date'], row['smoking last-categorial']\n",
    "    \n",
    "    else:\n",
    "        return row['smoking BL-Measurement date'], row['smoking BL-categorial']\n",
    "    return None, None\n",
    "\n",
    "date_cols = ['smoking last-Measurement date', 'smoking BL-Measurement date']\n",
    "for col in date_cols:\n",
    "    df[col] = pd.to_datetime(df[col])\n",
    "    \n",
    "df['max_smoke_prior_diagnose'] = df.apply(lambda row: get_max_smoke_prior_diagnose(row), axis=1) #these are tuples of date and value\n",
    "df['max_smoke_prior_diagnose_date'] = df.apply(lambda row: row['max_smoke_prior_diagnose'][0], axis=1)\n",
    "df['max_smoke_prior_diagnose_value'] = df.apply(lambda row: row['max_smoke_prior_diagnose'][1], axis=1)"
   ]
  },
  {
   "cell_type": "code",
   "execution_count": 23,
   "id": "3145cc38",
   "metadata": {},
   "outputs": [],
   "source": [
    "#get a categorial variable of smoke status in english for the plots\n",
    "def smoke_to_cat_2(smoke):\n",
    "    if smoke is None:\n",
    "        return None\n",
    "    if smoke==0:\n",
    "        return \"never\"\n",
    "    if smoke==1:\n",
    "        return \"in the past\"\n",
    "    if smoke==2:\n",
    "        return \"currently\"\n",
    "df['max_smoke_prior_diagnose_value_eng'] = df.apply(lambda x: smoke_to_cat_2(x['max_smoke_prior_diagnose_value']), axis=1)"
   ]
  },
  {
   "cell_type": "code",
   "execution_count": 24,
   "id": "3c280ffb",
   "metadata": {},
   "outputs": [
    {
     "data": {
      "text/plain": [
       "Israel           1534\n",
       "Soviet Union      354\n",
       "Ethiopia          129\n",
       "Ukraine           116\n",
       "Unknown           104\n",
       "Russia             92\n",
       "Morocco            43\n",
       "Romania            23\n",
       "Iran               18\n",
       "Uzbekistan         15\n",
       "United States      13\n",
       "Argentina           6\n",
       "India               5\n",
       "Germany             3\n",
       "Egypt               3\n",
       "Brazil              2\n",
       "Australia           2\n",
       "Libya               2\n",
       "Afghanistan         1\n",
       "Canada              1\n",
       "Syria               1\n",
       "France              1\n",
       "Spain               1\n",
       "Name: Country of birth, dtype: int64"
      ]
     },
     "execution_count": 24,
     "metadata": {},
     "output_type": "execute_result"
    }
   ],
   "source": [
    "#change the Cat var of country to englush for the plots\n",
    "def transalte_country(df, column):\n",
    "    # Define a mapping from Hebrew to English.\n",
    "    translation_dict = {\n",
    "        'ישראל': 'Israel',\n",
    "        'ארצות הברית': 'United States',\n",
    "        'צרפת': 'France',\n",
    "        'בריטניה': 'United Kingdom',\n",
    "        'רוסיה': 'Russia',\n",
    "        'ברית המועצות': 'Soviet Union',\n",
    "        'גרמניה': 'Germany',\n",
    "        'איטליה': 'Italy',\n",
    "        'ספרד': 'Spain',\n",
    "        'ברזיל': 'Brazil',\n",
    "        'מקסיקו': 'Mexico',\n",
    "        'קנדה': 'Canada',\n",
    "        'הודו': 'India',\n",
    "        'אוסטרליה': 'Australia',\n",
    "        'ארגנטינה': 'Argentina',\n",
    "        'סין': 'China',\n",
    "        'אפגניסטן': 'Afghanistan',\n",
    "        'אלגריה': 'Algeria',\n",
    "        'בחרין': 'Bahrain',\n",
    "        'מצרים': 'Egypt',\n",
    "        'עיראק': 'Iraq',\n",
    "        'לבנון': 'Lebanon',\n",
    "        'לוב': 'Libya',\n",
    "        'מרוקו': 'Morocco',\n",
    "        'פלסטין': 'Palestine',\n",
    "        'קטר': 'Qatar',\n",
    "        'סוריה': 'Syria',\n",
    "        'טוניסיה': 'Tunisia',\n",
    "        'אתיופיה': 'Ethiopia',\n",
    "        'אוקראינה': 'Ukraine',\n",
    "        'רומניה': 'Romania',\n",
    "        'אירן': 'Iran',\n",
    "        'אוזבקיסטאן': 'Uzbekistan'\n",
    "    }\n",
    "\n",
    "    # Use the map method to replace each Hebrew name with the English name.\n",
    "    df[column] = df[column].map(translation_dict)\n",
    "\n",
    "    # If any country was not found in the dictionary, fill it with 'Unknown'.\n",
    "    df[column] = df[column].fillna('Unknown')\n",
    "\n",
    "    return df\n",
    "\n",
    "df = transalte_country(df,'Country of birth')\n",
    "df['Country of birth'].value_counts()"
   ]
  },
  {
   "cell_type": "markdown",
   "id": "3121602c",
   "metadata": {},
   "source": [
    "## Matching Process and Statistical Analysis"
   ]
  },
  {
   "cell_type": "markdown",
   "id": "a53fad6b",
   "metadata": {},
   "source": [
    "The matching approach utilizes specific covariates recognized to have potential influence on the diagnosis of GERD. We will carry a pairwise matching between diagnosed and undiagnosed nurses, using the following covariates: gender, age, BMI, smoking, socioeconomic status and Charlson Comorbidity Index."
   ]
  },
  {
   "cell_type": "markdown",
   "id": "b7d511e3",
   "metadata": {},
   "source": [
    "### Preprocessing values for matching"
   ]
  },
  {
   "cell_type": "code",
   "execution_count": 25,
   "id": "caf143a7",
   "metadata": {},
   "outputs": [],
   "source": [
    "#define the variables to use for matching\n",
    "df['female'] = df['Gender'].replace(['Male', 'Female'], [0, 1]).astype('int')\n",
    "\n",
    "df['age_2015'] = df['age_2015'].astype('float64')\n",
    "\n",
    "df['is_ill2'] = df['is_ill'].astype(int)\n",
    "\n",
    "df['max_smoke_prior_diagnose_value'].fillna(-1, inplace=True)\n",
    "\n",
    "# add average BMI value for those who did not have value for BMI\n",
    "df['BMI_missing'] = df['BMI_value_before_start_work'].apply(lambda x: 1 if pd.isna(x) else 0)\n",
    "df['BMI_value_before_start_work'].fillna(df['BMI_value_before_start_work'].mean(), inplace=True)\n",
    "df['BMI_value_before_start_work'] = df['BMI_value_before_start_work'].astype('float64')"
   ]
  },
  {
   "cell_type": "code",
   "execution_count": 26,
   "id": "3f961540",
   "metadata": {},
   "outputs": [
    {
     "data": {
      "text/plain": [
       "False    2274\n",
       "True      195\n",
       "Name: is_ill, dtype: int64"
      ]
     },
     "execution_count": 26,
     "metadata": {},
     "output_type": "execute_result"
    }
   ],
   "source": [
    "#rename covariates with shorter names for easier matching\n",
    "df_matching =  df.rename(columns={\"Socioeconomic score five level scale int\": \"socio\", \"max_smoke_prior_diagnose_value\": \"smoke\", 'age_2015':\"age\",'BMI_value_before_start_work':\"BMI\", 'charlsocn BL-Charlson Score Total':'charlson','Country of birth':'Country' }, inplace=False)\n",
    "\n",
    "df_matching['is_ill'].value_counts()"
   ]
  },
  {
   "cell_type": "code",
   "execution_count": 27,
   "id": "a3f0a746",
   "metadata": {},
   "outputs": [],
   "source": [
    "#get indices of patients to apply matching\n",
    "X_to_pID = df_matching['Patient ID'].to_dict()"
   ]
  },
  {
   "cell_type": "markdown",
   "id": "5093c477",
   "metadata": {},
   "source": [
    "### Remove subjects with missing shift data before matching"
   ]
  },
  {
   "cell_type": "code",
   "execution_count": 28,
   "id": "0cbb20ad",
   "metadata": {},
   "outputs": [],
   "source": [
    "#create index for month year \n",
    "def get_index_month_year_ill(date):\n",
    "    year_count = date.year - 2015\n",
    "    return year_count*12 + date.month"
   ]
  },
  {
   "cell_type": "code",
   "execution_count": 29,
   "id": "06316291",
   "metadata": {},
   "outputs": [
    {
     "data": {
      "text/plain": [
       "is_ill\n",
       "False    1075\n",
       "True      168\n",
       "Name: Patient ID, dtype: int64"
      ]
     },
     "execution_count": 29,
     "metadata": {},
     "output_type": "execute_result"
    }
   ],
   "source": [
    "#remove ill patients that did not work in the year prior to diagnosis (ill group)\n",
    "temp = df_matching.copy()\n",
    "temp['ref_date_index'] = temp['first_sign_of_ESO'].apply(lambda x: get_index_month_year_ill(x))\n",
    "temp = shifts_data.merge(temp, on='InternalPatientID', how='left')\n",
    "temp_ill = temp[(temp['index_month_year']<=temp['ref_date_index']) & (temp['index_month_year']>=temp['ref_date_index']-12)]\n",
    "patients = temp_ill['InternalPatientID'].unique()\n",
    "df_matching_ill = df_matching[df_matching['InternalPatientID'].isin(patients)]\n",
    "\n",
    "# remove those who worked less than 5 years out of 6 (non ill group)\n",
    "temp_nill = temp[pd.isna(temp['ref_date_index'])]\n",
    "temp_nill = temp_nill.groupby('InternalPatientID')['InternalPatientID'].count()\n",
    "df_matching_nill = df_matching[df_matching['InternalPatientID'].isin(temp_nill[temp_nill>60].index)]\n",
    "\n",
    "df_matching = pd.concat([df_matching_ill, df_matching_nill])\n",
    "df_matching.groupby('is_ill').count()['Patient ID']"
   ]
  },
  {
   "cell_type": "markdown",
   "id": "bf8610ce",
   "metadata": {},
   "source": [
    "### Save dataframe to match as csv, to be matched in R"
   ]
  },
  {
   "cell_type": "code",
   "execution_count": 30,
   "id": "652a7c94",
   "metadata": {},
   "outputs": [],
   "source": [
    "cols = ['InternalPatientID', 'age','BMI', 'is_ill2', 'smoke', 'socio', 'female', 'charlson','Country']\n",
    "df_matching[cols].to_csv(path + \"df_to_match.csv\")"
   ]
  },
  {
   "cell_type": "markdown",
   "id": "75defbfb",
   "metadata": {},
   "source": [
    "### Run R code for matching then read the results"
   ]
  },
  {
   "cell_type": "markdown",
   "id": "293c9f21",
   "metadata": {},
   "source": [
    "The matching process was conducted in R to achieve the most accurate results. \n",
    "\n",
    "To reproduce pause here and run the R code (file name: \"matching_ill_rstudio.R\"). \n",
    "\n",
    "Once finished, continue running the cells below"
   ]
  },
  {
   "cell_type": "code",
   "execution_count": 31,
   "id": "c1bb6a8c",
   "metadata": {},
   "outputs": [],
   "source": [
    "match_r = pd.read_csv(path + \"matched_data_r.csv\") "
   ]
  },
  {
   "cell_type": "markdown",
   "id": "01bba99e",
   "metadata": {},
   "source": [
    "### Process the matched couples from R"
   ]
  },
  {
   "cell_type": "markdown",
   "id": "e1355505",
   "metadata": {},
   "source": [
    "We will assess the quality of matching by evaluating the balance achieved after matching by comparing the distribution of matching variables between the groups.\n",
    "Each non-diagnosed nurse is assigned an estimated diagnosis date mirroring that of their paired counterpart.\n",
    "This particular methodology was adopted with an intention to retrospectively examine the work lifestyle prior to the diagnosis.\n"
   ]
  },
  {
   "cell_type": "code",
   "execution_count": 32,
   "id": "e13f35cb",
   "metadata": {},
   "outputs": [],
   "source": [
    "# a list ids of ill\n",
    "ill_ids = df_matching[df_matching['is_ill']==True]['InternalPatientID'].tolist()"
   ]
  },
  {
   "cell_type": "code",
   "execution_count": 33,
   "id": "4b8a2b9f",
   "metadata": {
    "scrolled": true
   },
   "outputs": [],
   "source": [
    "# convert the matched dataset into a dataframe with pairs only of ill and not ill\n",
    "temp = match_r[['X', 'InternalPatientID', 'subclass']]\n",
    "temp = temp.merge(temp, on='subclass', how='inner')\n",
    "matched_ill = temp[temp['InternalPatientID_x']!=temp['InternalPatientID_y']][['X_x','X_y']]\n",
    "matched_ill.replace(X_to_pID, inplace=True)\n",
    "matched_ill['matched_set'] = matched_ill.apply(lambda x: sorted(list(x[['X_x', 'X_y']])), axis=1)\n",
    "temp = matched_ill['matched_set'].drop_duplicates().to_frame()\n",
    "matched_ill = pd.DataFrame(temp['matched_set'].to_list(), columns=['patient_1','patient_2'])\n",
    "matched_ill = pd.concat([matched_ill[matched_ill['patient_1'].isin(ill_ids)].rename(columns={'patient_1': 'ill', 'patient_2': 'not_ill'}),\n",
    "                         matched_ill[matched_ill['patient_2'].isin(ill_ids)].rename(columns={'patient_2': 'ill', 'patient_1': 'not_ill'})])"
   ]
  },
  {
   "cell_type": "code",
   "execution_count": 34,
   "id": "0295ef55",
   "metadata": {},
   "outputs": [
    {
     "data": {
      "text/plain": [
       "True     168\n",
       "False    168\n",
       "Name: is_ill, dtype: int64"
      ]
     },
     "execution_count": 34,
     "metadata": {},
     "output_type": "execute_result"
    }
   ],
   "source": [
    "# add the 12 month prior to diagnosis data\n",
    "temp = matched_ill.merge(df[['InternalPatientID', 'first_sign_of_ESO']], left_on='ill', right_on='InternalPatientID', how='left')\n",
    "temp['ref_date_index'] = temp['first_sign_of_ESO'].apply(lambda x: get_index_month_year_ill(x))\n",
    "temp = pd.concat([temp[['ill', 'ref_date_index']].rename(columns={'ill':'InternalPatientID'}), temp[['not_ill', 'ref_date_index']].rename(columns={'not_ill':'InternalPatientID'})] )\n",
    "temp = shifts_data.merge(temp, on='InternalPatientID', how='left')\n",
    "# filter out subjects with not enough shift data\n",
    "temp = temp[(temp['index_month_year']<=temp['ref_date_index']) & (temp['index_month_year']>=temp['ref_date_index']-12)]\n",
    "# extract the number of wirking months and the 90 th percentile\n",
    "matched_12m = temp.groupby(['InternalPatientID'], as_index=False).agg(\n",
    "    count = ('InternalPatientID', lambda x: x.count()),\n",
    "    p90 = ('night', lambda x: x.quantile(0.9)),\n",
    ")\n",
    "matched_12m['is_ill'] = matched_12m.InternalPatientID.isin(ill_ids)\n",
    "matched_12m['is_ill'].value_counts()"
   ]
  },
  {
   "cell_type": "code",
   "execution_count": 35,
   "id": "71be2fb1",
   "metadata": {},
   "outputs": [],
   "source": [
    "#creating the matched data with all the relevant data needed for the cond logit\n",
    "df_subset = df_matching[df_matching['InternalPatientID'].isin(matched_12m['InternalPatientID'])]\n",
    "df_subset = df_subset[['InternalPatientID','Country', 'median_nights','BMI','age','socio','smoke','female','charlson','is_ill2','charlsocn last-Charlson Score Total','smoking last-categorial']]\n",
    "df_subset = df_subset.merge(match_r[['InternalPatientID', 'subclass']], on='InternalPatientID', how='left')\n",
    "df_subset = df_subset.merge(shifts_patient[['InternalPatientID','count_month_w_nights',]], on='InternalPatientID', how='left')\n",
    "df_subset = df_subset.merge(matched_12m[['InternalPatientID', 'p90','count']], on='InternalPatientID', how='left')\n",
    "df_subset['smoking last-categorial'].fillna(-1, inplace=True)\n",
    "df_subset['subclass'] = df_subset['subclass'].astype(int)\n",
    "df_subset = df_subset.rename(columns={'charlsocn last-Charlson Score Total': 'last_charlson'})"
   ]
  },
  {
   "cell_type": "code",
   "execution_count": 36,
   "id": "95830ee1",
   "metadata": {},
   "outputs": [
    {
     "name": "stdout",
     "output_type": "stream",
     "text": [
      "   VIF Factor                 features\n",
      "0    7.722187                    socio\n",
      "1   20.703611                      BMI\n",
      "2   28.788696                      age\n",
      "3    1.481452                 charlson\n",
      "4    4.026012            last_charlson\n",
      "5    3.298700                    smoke\n",
      "6    5.996390                   female\n",
      "7   10.903354                    count\n",
      "8    3.227754  smoking last-categorial\n"
     ]
    }
   ],
   "source": [
    "X = df_subset[['socio','BMI','age','charlson','last_charlson','smoke','female','count','smoking last-categorial']]\n",
    "# Assuming X is your dataframe with the independent variables\n",
    "vif = pd.DataFrame()\n",
    "vif[\"VIF Factor\"] = [variance_inflation_factor(X.values, i) for i in range(X.shape[1])]\n",
    "vif[\"features\"] = X.columns\n",
    "print(vif)"
   ]
  },
  {
   "cell_type": "code",
   "execution_count": 37,
   "id": "3580c204",
   "metadata": {},
   "outputs": [
    {
     "data": {
      "text/plain": [
       "0    185\n",
       "3     53\n",
       "1     52\n",
       "2     46\n",
       "Name: expose_group_2, dtype: int64"
      ]
     },
     "execution_count": 37,
     "metadata": {},
     "output_type": "execute_result"
    }
   ],
   "source": [
    "#calculate in which exposure group each patient is, based on their median number of nights\n",
    "med_night = df_subset['p90'][df_subset['p90'] != 0]\n",
    "quantile_1 = med_night.quantile(1/3)\n",
    "quantile_2 = med_night.quantile(2/3)\n",
    "def get_expose_group_2(row):\n",
    "    if row['p90'] == 0:\n",
    "        return 0\n",
    "    if row['p90']>=quantile_2:\n",
    "        return 3\n",
    "    elif row['p90']<=quantile_1:\n",
    "        return 1\n",
    "    return 2\n",
    "\n",
    "df_subset['expose_group_2'] = df_subset.apply(lambda row: get_expose_group_2(row), axis=1)\n",
    "df_subset['expose_group_2'].value_counts()"
   ]
  },
  {
   "cell_type": "code",
   "execution_count": 38,
   "id": "876e9704",
   "metadata": {},
   "outputs": [
    {
     "name": "stdout",
     "output_type": "stream",
     "text": [
      "                  Conditional Logit Model Regression Results                  \n",
      "==============================================================================\n",
      "Dep. Variable:                is_ill2   No. Observations:                  336\n",
      "Model:               ConditionalLogit   No. groups:                        168\n",
      "Log-Likelihood:               -110.10   Min group size:                      2\n",
      "Method:                          BFGS   Max group size:                      2\n",
      "Date:                Sat, 08 Jul 2023   Mean group size:                   2.0\n",
      "Time:                        19:35:39                                         \n",
      "===========================================================================================\n",
      "                              coef    std err          z      P>|z|      [0.025      0.975]\n",
      "-------------------------------------------------------------------------------------------\n",
      "expose_group_2             -0.1667      0.108     -1.550      0.121      -0.377       0.044\n",
      "age                        -0.0401      0.018     -2.248      0.025      -0.075      -0.005\n",
      "BMI                        -0.0325      0.030     -1.077      0.281      -0.092       0.027\n",
      "smoke                       0.1339      0.252      0.531      0.595      -0.360       0.628\n",
      "socio                       0.1516      0.146      1.037      0.300      -0.135       0.438\n",
      "female                     -0.0858      0.313     -0.274      0.784      -0.699       0.528\n",
      "charlson                   -0.4318      0.265     -1.632      0.103      -0.950       0.087\n",
      "last_charlson               0.2773      0.119      2.333      0.020       0.044       0.510\n",
      "smoking last-categorial    -0.1045      0.266     -0.393      0.694      -0.626       0.417\n",
      "===========================================================================================\n"
     ]
    }
   ],
   "source": [
    "cl_model = ConditionalLogit(endog = df_subset['is_ill2'], exog = df_subset[['expose_group_2','age' ,'BMI','smoke','socio','female','charlson','last_charlson','smoking last-categorial']] ,groups = df_subset['subclass'])\n",
    "# Fit the model\n",
    "result = cl_model.fit()\n",
    "\n",
    "# Print the summary\n",
    "print(result.summary())"
   ]
  },
  {
   "cell_type": "markdown",
   "id": "4b253d9c",
   "metadata": {},
   "source": [
    "### Subgroup statistical analysis"
   ]
  },
  {
   "cell_type": "markdown",
   "id": "9b66a76c",
   "metadata": {},
   "source": [
    "To ensure the robustness of our conclusions, we will further conduct a subgroup analysis splitted by age group, gender, Charlson and BMI values"
   ]
  },
  {
   "cell_type": "code",
   "execution_count": 41,
   "id": "bebf37a7",
   "metadata": {},
   "outputs": [],
   "source": [
    "#define the relevant columns from matching for the subgroup analysis and merge dataframes\n",
    "cols = ['is_ill2','InternalPatientID', 'age','BMI','smoke','socio','female', 'charlson','expose_group_2','last_charlson','smoking last-categorial','subclass']\n",
    "data_paired = df_subset[cols]"
   ]
  },
  {
   "cell_type": "code",
   "execution_count": 42,
   "id": "f5f71480",
   "metadata": {},
   "outputs": [],
   "source": [
    "def subgroup_analysis2(data, covariate, value, direction):\n",
    "    if direction == 'over':\n",
    "        subgroup = data[data[covariate]>value]\n",
    "    \n",
    "    elif direction == 'under':\n",
    "        subgroup = data[data[covariate]<value]\n",
    "        \n",
    "    elif direction == 'equals':\n",
    "        subgroup = data[data[covariate]==value]\n",
    "    \n",
    "    cl_model = ConditionalLogit(endog = subgroup['is_ill2'], exog = subgroup[['expose_group_2','age' ,'BMI','smoke','socio','female','charlson','last_charlson','smoking last-categorial']] ,groups = subgroup['subclass'])\n",
    "\n",
    "    result = cl_model.fit()\n",
    "\n",
    "    # Print the summary\n",
    "    print(\"P-value for exposure is:{0}\".format(result.pvalues[0]))\n",
    "    print(result.summary())"
   ]
  },
  {
   "cell_type": "code",
   "execution_count": 43,
   "id": "d400bcd2",
   "metadata": {},
   "outputs": [
    {
     "name": "stdout",
     "output_type": "stream",
     "text": [
      "age 50 over\n",
      "P-value for exposure is:0.6830149813440187\n",
      "                  Conditional Logit Model Regression Results                  \n",
      "==============================================================================\n",
      "Dep. Variable:                is_ill2   No. Observations:                   80\n",
      "Model:               ConditionalLogit   No. groups:                         40\n",
      "Log-Likelihood:               -14.416   Min group size:                      2\n",
      "Method:                          BFGS   Max group size:                      2\n",
      "Date:                Sat, 08 Jul 2023   Mean group size:                   2.0\n",
      "Time:                        19:38:22                                         \n",
      "===========================================================================================\n",
      "                              coef    std err          z      P>|z|      [0.025      0.975]\n",
      "-------------------------------------------------------------------------------------------\n",
      "expose_group_2              0.1655      0.405      0.408      0.683      -0.629       0.960\n",
      "age                         0.3207      0.119      2.692      0.007       0.087       0.554\n",
      "BMI                         0.0954      0.103      0.924      0.356      -0.107       0.298\n",
      "smoke                      24.7202   1918.395      0.013      0.990   -3735.265    3784.706\n",
      "socio                       0.2917      0.447      0.653      0.514      -0.584       1.168\n",
      "female                    -15.5810   1840.664     -0.008      0.993   -3623.216    3592.054\n",
      "charlson                   -0.4244      0.613     -0.692      0.489      -1.626       0.777\n",
      "last_charlson              -0.2084      0.357     -0.584      0.559      -0.908       0.491\n",
      "smoking last-categorial   -24.9127   1918.395     -0.013      0.990   -3784.899    3735.073\n",
      "===========================================================================================\n",
      "BMI 25 over\n",
      "P-value for exposure is:0.49527597804732604\n",
      "                  Conditional Logit Model Regression Results                  \n",
      "==============================================================================\n",
      "Dep. Variable:                is_ill2   No. Observations:                  166\n",
      "Model:               ConditionalLogit   No. groups:                         83\n",
      "Log-Likelihood:               -53.737   Min group size:                      2\n",
      "Method:                          BFGS   Max group size:                      2\n",
      "Date:                Sat, 08 Jul 2023   Mean group size:                   2.0\n",
      "Time:                        19:38:23                                         \n",
      "===========================================================================================\n",
      "                              coef    std err          z      P>|z|      [0.025      0.975]\n",
      "-------------------------------------------------------------------------------------------\n",
      "expose_group_2             -0.1148      0.168     -0.682      0.495      -0.445       0.215\n",
      "age                        -0.0435      0.028     -1.540      0.123      -0.099       0.012\n",
      "BMI                        -0.0220      0.048     -0.461      0.645      -0.115       0.071\n",
      "smoke                       0.7294      0.473      1.543      0.123      -0.197       1.656\n",
      "socio                       0.1240      0.212      0.585      0.558      -0.291       0.539\n",
      "female                      0.2242      0.481      0.466      0.642      -0.720       1.168\n",
      "charlson                   -0.1447      0.464     -0.312      0.755      -1.054       0.764\n",
      "last_charlson               0.2665      0.180      1.484      0.138      -0.085       0.618\n",
      "smoking last-categorial    -0.5576      0.506     -1.101      0.271      -1.550       0.435\n",
      "===========================================================================================\n",
      "charlson 2 under\n",
      "P-value for exposure is:0.23189451486585244\n",
      "                  Conditional Logit Model Regression Results                  \n",
      "==============================================================================\n",
      "Dep. Variable:                is_ill2   No. Observations:                  308\n",
      "Model:               ConditionalLogit   No. groups:                        154\n",
      "Log-Likelihood:               -100.27   Min group size:                      2\n",
      "Method:                          BFGS   Max group size:                      2\n",
      "Date:                Sat, 08 Jul 2023   Mean group size:                   2.0\n",
      "Time:                        19:38:23                                         \n",
      "===========================================================================================\n",
      "                              coef    std err          z      P>|z|      [0.025      0.975]\n",
      "-------------------------------------------------------------------------------------------\n",
      "expose_group_2             -0.1328      0.111     -1.195      0.232      -0.350       0.085\n",
      "age                        -0.0517      0.020     -2.646      0.008      -0.090      -0.013\n",
      "BMI                         0.0002      0.037      0.007      0.995      -0.073       0.073\n",
      "smoke                       0.0766      0.255      0.300      0.764      -0.424       0.577\n",
      "socio                       0.1665      0.155      1.071      0.284      -0.138       0.471\n",
      "female                     -0.0668      0.358     -0.186      0.852      -0.769       0.635\n",
      "charlson                   -0.3672      0.527     -0.697      0.486      -1.399       0.665\n",
      "last_charlson               0.3644      0.138      2.632      0.008       0.093       0.636\n",
      "smoking last-categorial    -0.0831      0.274     -0.303      0.762      -0.620       0.454\n",
      "===========================================================================================\n",
      "smoke 0 equals\n",
      "P-value for exposure is:0.7144156554551431\n",
      "                  Conditional Logit Model Regression Results                  \n",
      "==============================================================================\n",
      "Dep. Variable:                is_ill2   No. Observations:                  172\n",
      "Model:               ConditionalLogit   No. groups:                         86\n",
      "Log-Likelihood:               -53.757   Min group size:                      2\n",
      "Method:                          BFGS   Max group size:                      2\n",
      "Date:                Sat, 08 Jul 2023   Mean group size:                   2.0\n",
      "Time:                        19:38:23                                         \n",
      "===========================================================================================\n",
      "                              coef    std err          z      P>|z|      [0.025      0.975]\n",
      "-------------------------------------------------------------------------------------------\n",
      "expose_group_2             -0.0566      0.155     -0.366      0.714      -0.360       0.247\n",
      "age                        -0.0633      0.028     -2.284      0.022      -0.118      -0.009\n",
      "BMI                        -0.0190      0.046     -0.409      0.683      -0.110       0.072\n",
      "smoke                            0   1.15e+07          0      1.000   -2.25e+07    2.25e+07\n",
      "socio                       0.1485      0.235      0.631      0.528      -0.312       0.609\n",
      "female                     -0.3929      0.488     -0.805      0.421      -1.349       0.563\n",
      "charlson                   -0.9300      0.493     -1.886      0.059      -1.897       0.037\n",
      "last_charlson               0.4884      0.192      2.538      0.011       0.111       0.866\n",
      "smoking last-categorial    -0.3083      0.594     -0.519      0.604      -1.473       0.856\n",
      "===========================================================================================\n"
     ]
    }
   ],
   "source": [
    "# Create a DF for the results of the subgroups tests\n",
    "subgroups = pd.DataFrame(columns=['covariate', 'value', 'direction', 'pvalue', 'CI', 'n'])\n",
    "subgroups['covariate'] = ['age',   'BMI',  'charlson', 'smoke']\n",
    "subgroups['value'] =     [ 50, 25,  2, 0]\n",
    "subgroups['direction'] = ['over',  'over', 'under' , 'equals']\n",
    "\n",
    "for i, row in subgroups.iterrows():\n",
    "    print(row['covariate'], row['value'], row['direction'])\n",
    "    subgroup_analysis2(data_paired, row['covariate'], row['value'], row['direction'])"
   ]
  },
  {
   "cell_type": "markdown",
   "id": "f45a8c7a",
   "metadata": {},
   "source": [
    "## Exploratory Analysis Plots"
   ]
  },
  {
   "cell_type": "markdown",
   "id": "4c15fc1f",
   "metadata": {},
   "source": [
    "### Shift Records Plots"
   ]
  },
  {
   "cell_type": "markdown",
   "id": "fb43d36d",
   "metadata": {},
   "source": [
    "The logic of shift definition was analyzed to review the relationships of the explanatory features and the working lifestyle. We analyzed the differences in the covariates between shift workers and non-shift workers."
   ]
  },
  {
   "cell_type": "code",
   "execution_count": 46,
   "id": "5d15b40f",
   "metadata": {},
   "outputs": [],
   "source": [
    "#define a method to create box plots\n",
    "def create_boxplot(data, x_col, y_col, x_col_name, y_col_name, two_dimensions=True):\n",
    "    if two_dimensions:\n",
    "        sns.boxplot(data = data, x=x_col, y=y_col)\n",
    "        title = x_col_name + 'by ' + y_col_name\n",
    "        plt.title(title)\n",
    "        plt.ylabel(y_col_name)\n",
    "        plt.xlabel(x_col_name)\n",
    "        plt.grid(True)\n",
    "        plt.show()\n",
    "    else:\n",
    "        data[y_col].plot(kind='box',  grid=True, color='blue')\n",
    "        plt.ylabel(y_col_name)\n",
    "        plt.title(y_col_name + \" Distribution\")"
   ]
  },
  {
   "cell_type": "code",
   "execution_count": 47,
   "id": "99c0ae05",
   "metadata": {},
   "outputs": [],
   "source": [
    "#define a method to create mosaic plots\n",
    "def create_mosaic_plot(data, x_col, y_col, x_col_name, y_col_name=None):\n",
    "    c = pd.crosstab(data[x_col], data[y_col])\n",
    "    tuples = list(product(list(c.index), list(c.columns)))\n",
    "    index = pd.MultiIndex.from_tuples(tuples, names=[x_col, y_col])\n",
    "    temp = pd.Series(c.stack().values, index=index)\n",
    "    cc = pd.crosstab(data[x_col], data[y_col], normalize=True)\n",
    "    def get_perc(k):\n",
    "        temp = cc[k[1]][k[0]]\n",
    "        perc = temp*100\n",
    "        rnd = np.round(perc,2)\n",
    "        return str(rnd)+\"%\"\n",
    "    labelizer=lambda k: get_perc(k)\n",
    "    if y_col_name == None:\n",
    "        y_col_name = y_col\n",
    "    mo = mosaic(temp, title=x_col_name + \" VS \" + y_col_name, axes_label=True, labelizer=labelizer)"
   ]
  },
  {
   "cell_type": "code",
   "execution_count": 48,
   "id": "dff64982",
   "metadata": {},
   "outputs": [],
   "source": [
    "#calculate relevant statistics of number of shifts of each type for plots\n",
    "shifts_data['sum_shifts'] = shifts_data[['night', 'evening', 'morning']].sum(axis=1)\n",
    "\n",
    "shifts_patient = shifts_data.groupby(['InternalPatientID'], as_index=False).agg(\n",
    "    count_total_working_months = ('sum_shifts', len),\n",
    "    count_month_w_nights = ('night', lambda x: sum(x>0)),\n",
    "    median_nights_in_month = ('night', lambda x: x.quantile(0.5)),\n",
    "    median_evenings_in_month = ('evening', lambda x: x.quantile(0.5)),\n",
    "    median_mornings_in_month = ('morning', lambda x: x.quantile(0.5)),\n",
    "    mean_night_in_month = ('night', np.mean)\n",
    ")"
   ]
  },
  {
   "cell_type": "code",
   "execution_count": 49,
   "id": "367a367a",
   "metadata": {},
   "outputs": [
    {
     "data": {
      "text/plain": [
       "Text(0.5, 1.0, 'Violin plot of shifts distributions')"
      ]
     },
     "execution_count": 49,
     "metadata": {},
     "output_type": "execute_result"
    },
    {
     "data": {
      "image/png": "[encoded data removed]",
      "text/plain": [
       "<Figure size 432x288 with 1 Axes>"
      ]
     },
     "metadata": {
      "needs_background": "light"
     },
     "output_type": "display_data"
    }
   ],
   "source": [
    "#create a violin plot\n",
    "temp = pd.concat([pd.DataFrame({'median number of shifts':shifts_patient['median_mornings_in_month'], 'shift type': 'morning'}),\n",
    "                  pd.DataFrame({'median number of shifts':shifts_patient['median_evenings_in_month'], 'shift type': 'evening'}),\n",
    "                  pd.DataFrame({'median number of shifts':shifts_patient['median_nights_in_month'], 'shift type': 'night'}),\n",
    "                 ])\n",
    "sns.violinplot(data=temp, y='median number of shifts', x='shift type')\n",
    "plt.title('Violin plot of shifts distributions')"
   ]
  },
  {
   "cell_type": "code",
   "execution_count": 50,
   "id": "79411db8",
   "metadata": {},
   "outputs": [
    {
     "data": {
      "image/png": "[encoded data removed]",
      "text/plain": [
       "<Figure size 432x288 with 1 Axes>"
      ]
     },
     "metadata": {
      "needs_background": "light"
     },
     "output_type": "display_data"
    }
   ],
   "source": [
    "create_boxplot(df, 'expose_group', 'BMI_value_before_start_work', 'Exposure group', 'BMI before start working')"
   ]
  },
  {
   "cell_type": "code",
   "execution_count": 51,
   "id": "b50f9e4e",
   "metadata": {},
   "outputs": [
    {
     "data": {
      "image/png": "[encoded data removed]",
      "text/plain": [
       "<Figure size 432x288 with 1 Axes>"
      ]
     },
     "metadata": {
      "needs_background": "light"
     },
     "output_type": "display_data"
    }
   ],
   "source": [
    "create_boxplot(df, 'expose_group', 'age_2015', 'Exposure group', 'Age at 2015')"
   ]
  },
  {
   "cell_type": "code",
   "execution_count": 52,
   "id": "ff31165d",
   "metadata": {},
   "outputs": [
    {
     "data": {
      "image/png": "[encoded data removed]",
      "text/plain": [
       "<Figure size 432x288 with 3 Axes>"
      ]
     },
     "metadata": {
      "needs_background": "light"
     },
     "output_type": "display_data"
    }
   ],
   "source": [
    "create_mosaic_plot(df, 'expose_group', 'Gender', x_col_name='Exposure')"
   ]
  },
  {
   "cell_type": "code",
   "execution_count": 53,
   "id": "4379245e",
   "metadata": {},
   "outputs": [
    {
     "data": {
      "image/png": "[encoded data removed]",
      "text/plain": [
       "<Figure size 432x288 with 3 Axes>"
      ]
     },
     "metadata": {
      "needs_background": "light"
     },
     "output_type": "display_data"
    }
   ],
   "source": [
    "create_mosaic_plot(df, 'expose_group', 'max_smoke_prior_diagnose_value_eng', x_col_name='Exposure', y_col_name='Smoker Type')"
   ]
  },
  {
   "cell_type": "markdown",
   "id": "78204702",
   "metadata": {},
   "source": [
    "### Health Records Plots"
   ]
  },
  {
   "cell_type": "markdown",
   "id": "29e9e0d2",
   "metadata": {},
   "source": [
    "Analyse the differences in the covariates between patients diagnosed with GERD and ones that were not diagnosed"
   ]
  },
  {
   "cell_type": "code",
   "execution_count": 54,
   "id": "2f78e496",
   "metadata": {},
   "outputs": [
    {
     "data": {
      "image/png": "[encoded data removed]",
      "text/plain": [
       "<Figure size 432x288 with 3 Axes>"
      ]
     },
     "metadata": {
      "needs_background": "light"
     },
     "output_type": "display_data"
    }
   ],
   "source": [
    "create_mosaic_plot(df, 'is_ill_cat', 'Gender', x_col_name='Diagnosis of GERD')"
   ]
  },
  {
   "cell_type": "code",
   "execution_count": 55,
   "id": "078d0b5f",
   "metadata": {},
   "outputs": [
    {
     "data": {
      "image/png": "[encoded data removed]",
      "text/plain": [
       "<Figure size 432x288 with 3 Axes>"
      ]
     },
     "metadata": {
      "needs_background": "light"
     },
     "output_type": "display_data"
    }
   ],
   "source": [
    "create_mosaic_plot(df, 'Gender', 'max_smoke_prior_diagnose_value_eng', x_col_name='Gender', y_col_name = 'Smoker Type')"
   ]
  },
  {
   "cell_type": "code",
   "execution_count": 56,
   "id": "0f18b893",
   "metadata": {},
   "outputs": [
    {
     "data": {
      "image/png": "[encoded data removed]",
      "text/plain": [
       "<Figure size 432x288 with 3 Axes>"
      ]
     },
     "metadata": {
      "needs_background": "light"
     },
     "output_type": "display_data"
    }
   ],
   "source": [
    "create_mosaic_plot(df, 'is_ill_cat', 'max_smoke_prior_diagnose_value_eng', x_col_name='Diagnosis of GERD', y_col_name = 'Smoker Type')"
   ]
  },
  {
   "cell_type": "code",
   "execution_count": 57,
   "id": "54f40fcf",
   "metadata": {},
   "outputs": [
    {
     "data": {
      "image/png": "[encoded data removed]",
      "text/plain": [
       "<Figure size 432x288 with 3 Axes>"
      ]
     },
     "metadata": {
      "needs_background": "light"
     },
     "output_type": "display_data"
    }
   ],
   "source": [
    "df['Socioeconomic score five level scale cat'] = df['Socioeconomic score five level scale'].astype('category')\n",
    "create_mosaic_plot(df, 'is_ill_cat', 'Socioeconomic score five level scale cat', x_col_name='Diagnosis of GERD', y_col_name = 'Socio-economic Score')"
   ]
  },
  {
   "cell_type": "code",
   "execution_count": 58,
   "id": "1ff37a29",
   "metadata": {},
   "outputs": [
    {
     "data": {
      "image/png": "[encoded data removed]",
      "text/plain": [
       "<Figure size 432x288 with 1 Axes>"
      ]
     },
     "metadata": {
      "needs_background": "light"
     },
     "output_type": "display_data"
    }
   ],
   "source": [
    "create_boxplot(df, 'is_ill_cat', 'BMI value before diag', 'Diagnosis of GERD', 'BMI before diagnosis')"
   ]
  },
  {
   "cell_type": "code",
   "execution_count": 59,
   "id": "373c6290",
   "metadata": {},
   "outputs": [
    {
     "data": {
      "image/png": "[encoded data removed]",
      "text/plain": [
       "<Figure size 432x288 with 1 Axes>"
      ]
     },
     "metadata": {
      "needs_background": "light"
     },
     "output_type": "display_data"
    }
   ],
   "source": [
    "create_boxplot(df, 'Gender', 'BMI value before diag', 'Gender', 'BMI before diagnosis')"
   ]
  },
  {
   "cell_type": "code",
   "execution_count": 60,
   "id": "995e4b49",
   "metadata": {},
   "outputs": [
    {
     "data": {
      "text/plain": [
       "is_ill_cat\n",
       "diagnosed with GERD    26.5731\n",
       "not diagnosed          24.9770\n",
       "Name: BMI_value_before_start_work, dtype: float64"
      ]
     },
     "execution_count": 60,
     "metadata": {},
     "output_type": "execute_result"
    }
   ],
   "source": [
    "df.groupby('is_ill_cat').median()['BMI_value_before_start_work']"
   ]
  },
  {
   "cell_type": "code",
   "execution_count": 61,
   "id": "84016be9",
   "metadata": {},
   "outputs": [
    {
     "data": {
      "image/png": "[encoded data removed]",
      "text/plain": [
       "<Figure size 432x288 with 1 Axes>"
      ]
     },
     "metadata": {
      "needs_background": "light"
     },
     "output_type": "display_data"
    }
   ],
   "source": [
    "create_boxplot(df, None, 'age_at_diagnosis', None, 'Age at Diagnosis of GERD', False)"
   ]
  },
  {
   "cell_type": "code",
   "execution_count": 62,
   "id": "1439cba1",
   "metadata": {},
   "outputs": [
    {
     "data": {
      "image/png": "[encoded data removed]",
      "text/plain": [
       "<Figure size 432x288 with 1 Axes>"
      ]
     },
     "metadata": {
      "needs_background": "light"
     },
     "output_type": "display_data"
    }
   ],
   "source": [
    "create_boxplot(df, 'Gender', 'age_at_diagnosis', 'Gender', 'Age at diagnosis')"
   ]
  },
  {
   "cell_type": "code",
   "execution_count": 63,
   "id": "356f8846",
   "metadata": {},
   "outputs": [
    {
     "data": {
      "text/plain": [
       "Gender\n",
       "Female    51.803010\n",
       "Male      37.638076\n",
       "Name: age_at_diagnosis, dtype: float64"
      ]
     },
     "execution_count": 63,
     "metadata": {},
     "output_type": "execute_result"
    }
   ],
   "source": [
    "df.groupby('Gender').median()['age_at_diagnosis']"
   ]
  },
  {
   "cell_type": "code",
   "execution_count": 64,
   "id": "a1906ae6",
   "metadata": {},
   "outputs": [
    {
     "data": {
      "image/png": "[encoded data removed]",
      "text/plain": [
       "<Figure size 432x288 with 1 Axes>"
      ]
     },
     "metadata": {
      "needs_background": "light"
     },
     "output_type": "display_data"
    }
   ],
   "source": [
    "create_boxplot(df, None, 'max_charlson_prior_diagnose_value', None, '\"Charlson Comorbidity Index\"', False)"
   ]
  },
  {
   "cell_type": "code",
   "execution_count": 65,
   "id": "5d62d8ff",
   "metadata": {},
   "outputs": [
    {
     "data": {
      "text/plain": [
       "1.0"
      ]
     },
     "execution_count": 65,
     "metadata": {},
     "output_type": "execute_result"
    }
   ],
   "source": [
    "df['max_charlson_prior_diagnose_value'].median()"
   ]
  },
  {
   "cell_type": "code",
   "execution_count": 66,
   "id": "a7405bf5",
   "metadata": {},
   "outputs": [
    {
     "data": {
      "text/plain": [
       "Text(0.5, 0, 'Socio-Economic Score')"
      ]
     },
     "execution_count": 66,
     "metadata": {},
     "output_type": "execute_result"
    },
    {
     "data": {
      "image/png": "[encoded data removed]",
      "text/plain": [
       "<Figure size 432x288 with 1 Axes>"
      ]
     },
     "metadata": {
      "needs_background": "light"
     },
     "output_type": "display_data"
    }
   ],
   "source": [
    "df['Socioeconomic score five level scale cat'] = df['Socioeconomic score five level scale'].astype('category')\n",
    "temp = df[df['Socioeconomic score five level scale int']>-1]\n",
    "sns.countplot(data=temp, x='Socioeconomic score five level scale cat', order=order_5.keys(), color='b')\n",
    "plt.grid(True)\n",
    "plt.title(\"Socio-Economic Score Histogram\")\n",
    "plt.xlabel('Socio-Economic Score')"
   ]
  },
  {
   "cell_type": "markdown",
   "id": "e9156c99",
   "metadata": {},
   "source": [
    "## Statistical tests between diagnosis / exposure and variables"
   ]
  },
  {
   "cell_type": "code",
   "execution_count": 67,
   "id": "55445bd2",
   "metadata": {},
   "outputs": [],
   "source": [
    "def perform_shapiru_mann_whitney(x_col, y_col, x_values):\n",
    "    print(\"Statistical tests for: \", y_col, \"and\", x_col)\n",
    "    statistic, p_value = shapiro(df[y_col].astype('float').dropna())\n",
    "    print(\"Shapiro-Wilk test statistic:\", statistic, \"p-value:\", p_value)\n",
    "\n",
    "    x = np.array(df[df[x_col]==x_values[0]][y_col].astype('float').dropna())\n",
    "    y = np.array(df[df[x_col]==x_values[1]][y_col].astype('float').dropna())\n",
    "    statistic, p_value = mannwhitneyu(x=x, y=y)\n",
    "    print(\"Mann Whitney U test statistic:\", statistic, \"p-value:\", p_value)"
   ]
  },
  {
   "cell_type": "code",
   "execution_count": 68,
   "id": "d42272ad",
   "metadata": {},
   "outputs": [
    {
     "name": "stdout",
     "output_type": "stream",
     "text": [
      "Statistical tests for:  BMI_value_before_start_work and expose_group\n",
      "Shapiro-Wilk test statistic: 0.9652376770973206 p-value: 6.0408830308771935e-24\n",
      "Mann Whitney U test statistic: 237296.5 p-value: 0.6750092463895025\n"
     ]
    }
   ],
   "source": [
    "# Perform the Shapiro-Wilk test for BMI before start of work\n",
    "perform_shapiru_mann_whitney('expose_group', 'BMI_value_before_start_work', ['unexposed', 'exposed'])"
   ]
  },
  {
   "cell_type": "code",
   "execution_count": 69,
   "id": "14c83d6a",
   "metadata": {},
   "outputs": [
    {
     "name": "stdout",
     "output_type": "stream",
     "text": [
      "Statistical tests for:  BMI value before diag and is_ill\n",
      "Shapiro-Wilk test statistic: 0.9640001058578491 p-value: 8.104197637858874e-24\n",
      "Mann Whitney U test statistic: 145043.0 p-value: 0.004837395434921555\n"
     ]
    }
   ],
   "source": [
    "# Perform the Shapiro-Wilk test for BMI before diagnosis of GERD \n",
    "perform_shapiru_mann_whitney('is_ill', 'BMI value before diag', [False, True])"
   ]
  },
  {
   "cell_type": "code",
   "execution_count": 70,
   "id": "8205389a",
   "metadata": {},
   "outputs": [
    {
     "data": {
      "text/plain": [
       "(25.721438597285122, 26.913728947368416, -1.1922903500832938)"
      ]
     },
     "execution_count": 70,
     "metadata": {},
     "output_type": "execute_result"
    }
   ],
   "source": [
    "#compare means of BMI before diagnosis\n",
    "a = df[df['is_ill']==False]['BMI value before diag'].mean()\n",
    "b = df[df['is_ill']==True]['BMI value before diag'].mean()\n",
    "a, b, a-b"
   ]
  },
  {
   "cell_type": "code",
   "execution_count": 71,
   "id": "6a260f5d",
   "metadata": {},
   "outputs": [
    {
     "name": "stdout",
     "output_type": "stream",
     "text": [
      "Statistical tests for:  age_at_diagnosis and expose_group\n",
      "Shapiro-Wilk test statistic: 0.9626156687736511 p-value: 4.8341782530769706e-05\n",
      "Mann Whitney U test statistic: 1599.0 p-value: 0.252040624752604\n"
     ]
    }
   ],
   "source": [
    "# Perform the Shapiro-Wilk test for age at diagnosis and shift work\n",
    "perform_shapiru_mann_whitney('expose_group', 'age_at_diagnosis', ['unexposed', 'exposed'])"
   ]
  },
  {
   "cell_type": "code",
   "execution_count": 72,
   "id": "2b76ca62",
   "metadata": {},
   "outputs": [
    {
     "name": "stdout",
     "output_type": "stream",
     "text": [
      "Statistical tests for:  age_2015 and expose_group\n",
      "Shapiro-Wilk test statistic: 0.9646973013877869 p-value: 4.0456139878580675e-24\n",
      "Mann Whitney U test statistic: 263814.0 p-value: 0.006294451650132076\n"
     ]
    }
   ],
   "source": [
    "# Perform the Shapiro-Wilk test for age at 2015 and shift work\n",
    "perform_shapiru_mann_whitney('expose_group', 'age_2015', ['unexposed', 'exposed'])"
   ]
  },
  {
   "cell_type": "code",
   "execution_count": 73,
   "id": "7fc51fe8",
   "metadata": {},
   "outputs": [
    {
     "data": {
      "text/plain": [
       "(42.67795041256108, 40.48775228985976, 2.190198122701318)"
      ]
     },
     "execution_count": 73,
     "metadata": {},
     "output_type": "execute_result"
    }
   ],
   "source": [
    "a = df[df['expose_group']=='unexposed']['age_2015'].mean()\n",
    "b = df[df['expose_group']=='exposed']['age_2015'].mean()\n",
    "a, b, a-b"
   ]
  }
 ],
 "metadata": {
  "kernelspec": {
   "display_name": "Python 3 (ipykernel)",
   "language": "python",
   "name": "python3"
  },
  "language_info": {
   "codemirror_mode": {
    "name": "ipython",
    "version": 3
   },
   "file_extension": ".py",
   "mimetype": "text/x-python",
   "name": "python",
   "nbconvert_exporter": "python",
   "pygments_lexer": "ipython3",
   "version": "3.9.7"
  }
 },
 "nbformat": 4,
 "nbformat_minor": 5
}
